{
 "cells": [
  {
   "cell_type": "code",
   "execution_count": null,
   "metadata": {},
   "outputs": [],
   "source": []
  },
  {
   "cell_type": "code",
   "execution_count": 1,
   "metadata": {},
   "outputs": [],
   "source": [
    "import pandas as pd\n",
    "\n",
    "def add_volume_ratio(m04_csv_path, oc_csv_path):\n",
    "    # Load the datasets\n",
    "    m04_data = pd.read_csv(m04_csv_path)\n",
    "    oc_data = pd.read_csv(oc_csv_path)\n",
    "    \n",
    "    # Ensure there is a common identifier (image_name) in both datasets\n",
    "    # Merge the datasets on this identifier\n",
    "    merged_data = pd.merge(m04_data, oc_data, on=\"image_name\", suffixes=('_m04', '_oc'))\n",
    "    \n",
    "    # Calculate the volume ratio\n",
    "    merged_data['volume_ratio'] = merged_data['area_m04'] / merged_data['area_oc'].replace({0: pd.NA})\n",
    "    \n",
    "    # Update the original datasets with the calculated ratios\n",
    "    for image_name, volume_ratio in merged_data[['image_name', 'volume_ratio']].values:\n",
    "        m04_data.loc[m04_data['image_name'] == image_name, 'volume_ratio'] = volume_ratio\n",
    "        oc_data.loc[oc_data['image_name'] == image_name, 'volume_ratio'] = volume_ratio\n",
    "    \n",
    "    # Save the updated datasets back to CSV\n",
    "    m04_data.to_csv(m04_csv_path, index=False)\n",
    "    oc_data.to_csv(oc_csv_path, index=False)\n",
    "\n",
    "add_volume_ratio('/Users/katherineridley/Dropbox (UK Dementia Research Institute)/KRidley/PlaqueStack/Masks/overall_m04_combined.csv',\n",
    "                 '/Users/katherineridley/Dropbox (UK Dementia Research Institute)/KRidley/PlaqueStack/Masks/overall_oc_combined.csv')"
   ]
  },
  {
   "cell_type": "code",
   "execution_count": 12,
   "metadata": {},
   "outputs": [
    {
     "name": "stdout",
     "output_type": "stream",
     "text": [
      "{'area': {'stat': 1448.0, 'p_value': 0.0022127174518948916}, 'extent': {'stat': 812.0, 'p_value': 0.05700489165291237}, 'surface_area': {'stat': 1484.0, 'p_value': 0.0008333430219923272}, 'complexity': {'stat': 1233.0, 'p_value': 0.16771598728532633}, 'sphericity': {'stat': 895.0, 'p_value': 0.2096534395187294}, 'major_axis_length': {'stat': 1598.0, 'p_value': 2.3107099087365453e-05}, 'minor_axis_length': {'stat': 1368.0, 'p_value': 0.014900726899065438}, 'solidity': {'stat': 607.0, 'p_value': 0.00045554784236190033}, 'volume_ratio': {'stat': 567.0, 'p_value': 0.00013439020015031987}}\n",
      "{'area': {'stat': 992.0, 'p_value': 0.6196572575922759}, 'extent': {'stat': 707.0, 'p_value': 0.006449911428212244}, 'surface_area': {'stat': 1110.0, 'p_value': 0.6758206452693942}, 'complexity': {'stat': 849.0, 'p_value': 0.10651233860202203}, 'sphericity': {'stat': 749.0, 'p_value': 0.016588602057381486}, 'major_axis_length': {'stat': 1037.0, 'p_value': 0.8850252178413345}, 'minor_axis_length': {'stat': 1211.0, 'p_value': 0.2271930574944332}, 'solidity': {'stat': 610.0, 'p_value': 0.0004973688644550645}, 'volume_ratio': {'stat': 567.0, 'p_value': 0.00013439020015031987}}\n"
     ]
    }
   ],
   "source": [
    "from scipy.stats import mannwhitneyu\n",
    "import pandas as pd\n",
    "\n",
    "variables = ['area', 'extent', 'surface_area', 'complexity', 'sphericity', 'major_axis_length', 'minor_axis_length', 'solidity', 'volume_ratio']\n",
    "\n",
    "genotype1 = 'APPPS1'\n",
    "\n",
    "genotype2 = 'APPPS1xFIRE'\n",
    "\n",
    "def perform_mannwhitneyu_test(data, genotype1, genotype2, variables):\n",
    "    results = {}\n",
    "    data = data.fillna(0)\n",
    "    for variable in variables:\n",
    "        \n",
    "        genotype1_values = data[data['Genotype'] == genotype1][variable]\n",
    "        genotype2_values = data[data['Genotype'] == genotype2][variable]\n",
    "        \n",
    "        stat, p_value = mannwhitneyu(genotype1_values, genotype2_values)\n",
    "        results[variable] = {'stat': stat, 'p_value': p_value}\n",
    "    return results\n",
    "\n",
    "data = pd.read_csv('/Users/katherineridley/Dropbox (UK Dementia Research Institute)/KRidley/PlaqueStack/Masks/overall_oc_combined.csv')\n",
    "ocresults = perform_mannwhitneyu_test(data, genotype1, genotype2, variables)\n",
    "print(ocresults)\n",
    "\n",
    "ocdf= pd.DataFrame(ocresults)\n",
    "ocdf.to_csv('/Users/katherineridley/Dropbox (UK Dementia Research Institute)/KRidley/PlaqueStack/Masks/oc_mannwhitneyu_results.csv')\n",
    "\n",
    "data = pd.read_csv('/Users/katherineridley/Dropbox (UK Dementia Research Institute)/KRidley/PlaqueStack/Masks/overall_m04_combined.csv')\n",
    "m04results = perform_mannwhitneyu_test(data, genotype1, genotype2, variables)\n",
    "print(m04results)\n",
    "\n",
    "m04df = pd.DataFrame(m04results)\n",
    "m04df.to_csv('/Users/katherineridley/Dropbox (UK Dementia Research Institute)/KRidley/PlaqueStack/Masks/m04_mannwhitneyu_results.csv')\n",
    "\n",
    "# Save the results to a CSV\n",
    "results = pd.DataFrame([ocresults, m04results], index=['oc', 'm04']).T\n",
    "results.to_csv('/Users/katherineridley/Dropbox (UK Dementia Research Institute)/KRidley/PlaqueStack/Masks/mannwhitneyu_results.csv')"
   ]
  },
  {
   "cell_type": "code",
   "execution_count": null,
   "metadata": {},
   "outputs": [],
   "source": [
    "import plotly.express as px\n",
    "\n",
    "def visualize_morphological_characteristics(data, variable, genotype_column='Genotype'):\n",
    "    fig = px.violin(data, y=variable, x=genotype_column, color=genotype_column,\n",
    "                    box=True, points=\"all\", hover_data=data.columns)\n",
    "    fig.update_layout(title=f\"Comparison of {variable} Between Genotypes\")\n",
    "    return fig\n",
    "\n",
    "# Assuming 'data' is your merged dataset with all necessary morphological characteristics and 'Genotype' information\n",
    "# Here is an example usage for 'area' - replace 'data' with your actual dataframe variable name\n",
    "fig = visualize_morphological_characteristics(data, 'area')\n",
    "fig.show()"
   ]
  },
  {
   "cell_type": "code",
   "execution_count": null,
   "metadata": {},
   "outputs": [],
   "source": []
  }
 ],
 "metadata": {
  "kernelspec": {
   "display_name": "flasktest",
   "language": "python",
   "name": "python3"
  },
  "language_info": {
   "codemirror_mode": {
    "name": "ipython",
    "version": 3
   },
   "file_extension": ".py",
   "mimetype": "text/x-python",
   "name": "python",
   "nbconvert_exporter": "python",
   "pygments_lexer": "ipython3",
   "version": "3.12.1"
  }
 },
 "nbformat": 4,
 "nbformat_minor": 2
}
